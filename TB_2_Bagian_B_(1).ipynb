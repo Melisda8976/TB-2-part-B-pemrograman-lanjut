{
  "nbformat": 4,
  "nbformat_minor": 0,
  "metadata": {
    "colab": {
      "provenance": []
    },
    "kernelspec": {
      "name": "python3",
      "display_name": "Python 3"
    },
    "language_info": {
      "name": "python"
    }
  },
  "cells": [
    {
      "cell_type": "code",
      "execution_count": 22,
      "metadata": {
        "colab": {
          "base_uri": "https://localhost:8080/"
        },
        "id": "Vs1nUy-r195t",
        "outputId": "171a7693-11cc-4feb-c9a0-071e0079d3a7"
      },
      "outputs": [
        {
          "output_type": "stream",
          "name": "stdout",
          "text": [
            "Masukkan batas nilai: 6\n",
            "1\n",
            "9\n",
            "25\n"
          ]
        }
      ],
      "source": [
        "def hitung_kuadrat_ganjil(batas):\n",
        "  \"\"\"\n",
        "  Function to detect odd-even numbers, extract odd ones, and print their squares.\n",
        "\n",
        "  Args:\n",
        "      batas: upper limit for processing values.\n",
        "\n",
        "  Returns:\n",
        "      None.\n",
        "  \"\"\"\n",
        "  for i in range(batas + 1):\n",
        "    if i % 2 == 0:\n",
        "      #Skip even numbers\n",
        "      continue\n",
        "    else:\n",
        "      # Print the square of odd numbers\n",
        "      print(i*i)\n",
        "# User print\n",
        "batas = int(input(\"Masukkan batas nilai: \"))\n",
        "\n",
        "# Call function to calculate and print squares of odd numbers\n",
        "hitung_kuadrat_ganjil(batas)"
      ]
    }
  ]
}